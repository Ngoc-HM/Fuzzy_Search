{
 "cells": [
  {
   "cell_type": "code",
   "execution_count": null,
   "metadata": {},
   "outputs": [],
   "source": [
    "# Test Fuzzy Search "
   ]
  },
  {
   "cell_type": "markdown",
   "metadata": {},
   "source": [
    "# Fuzzy search (tìm kiếm mờ) \n",
    "Fuzzy search (tìm kiếm mờ) là một kỹ thuật tìm kiếm cho phép tìm kiếm dữ liệu dựa trên sự tương đồng, thay vì tìm kiếm khớp chính xác.\n",
    "\n",
    "Trong fuzzy search, thay vì chỉ trả về kết quả chính xác, nó cũng trả về các kết quả tương tự với chuỗi tìm kiếm, dựa trên một số tiêu chí như:\n",
    "\n",
    "- Hoán vị chữ cái\n",
    "- Chèn hoặc xóa chữ cái\n",
    "- Chữ cái khác biệt\n",
    "- Khoảng cách biểu diễn (ví dụ giữa \"hello world\" và \"helloworld\")\n",
    "\n",
    "Fuzzy search rất hữu ích trong các trường hợp như:\n",
    "\n",
    "1. Tìm kiếm và sửa lỗi chính tả\n",
    "2. Tìm kiếm tên người hoặc địa danh khi có sự khác biệt về cách viết\n",
    "3. Tìm kiếm dữ liệu bị lỗi hoặc không đồng nhất\n",
    "4. Tìm kiếm trên dữ liệu từ nhiều nguồn khác nhau\n",
    "\n",
    "Các thuật toán phổ biến dùng cho fuzzy search bao gồm khoảng cách Levenshtein, khoảng cách Damerau-Levenshtein, so khớp ngữ âm, n-grams, v.v.\n",
    "\n",
    "Fuzzy search đã được áp dụng rộng rãi trong các công cụ tìm kiếm, trình gõ tự động, kiểm tra chính tả, gợi ý và tự động hoàn thành, công cụ truy vấn dữ liệu, v.v."
   ]
  },
  {
   "cell_type": "markdown",
   "metadata": {},
   "source": [
    "# Bản chất"
   ]
  },
  {
   "cell_type": "markdown",
   "metadata": {},
   "source": [
    "Con người có thể phân biệt được ý định của một từ sai chính tả chỉ bằng một cái nhìn thoáng qua. Đối với máy tính, sự phân biệt không rõ ràng. \n",
    "\n",
    "Trong bài này fuzzy mình sẽ dịch qua tiếng Việt là \"mờ\"\n",
    "\"Fuzzy Search = tìm kiếm chuỗi mờ \"\n",
    "\n",
    "\n"
   ]
  },
  {
   "cell_type": "markdown",
   "metadata": {},
   "source": [
    "So khớp chuỗi mờ là tên thông tục được sử dụng để so khớp chuỗi gần đúng \n",
    "\n",
    "mình sẽ sử dụng thuật ngữ so khớp chuỗi mờ cho hướng dẫn này. \n",
    "\n",
    "Đó là một kỹ thuật được sử dụng để xác định hai thành phần của chuỗi văn bản khớp một phần nhưng không khớp chính xác. \n",
    "\n",
    "Chúng ta thường thấy hiện tượng này được sử dụng trong các công cụ tìm kiếm. \n",
    "\n",
    "Ví dụ: nếu người dùng nhập “Londin” thay vì “London” vào Google (có thể là chữ i gần chữ o nên gõ sai), \n",
    "kết hợp chuỗi mờ sẽ xác định rằng “London” là từ dự định và Google sẽ trả về kết quả tìm kiếm cho từ đó."
   ]
  },
  {
   "cell_type": "markdown",
   "metadata": {},
   "source": [
    "# Chỉnh sửa và chỉnh sửa khoảng cách\n",
    "\n",
    "Thuật toán so khớp chuỗi mờ tìm cách xác định mức độ gần nhau giữa hai chuỗi khác nhau. \n",
    "\n",
    "Điều này được phát hiện bằng cách sử dụng thước đo khoảng cách được gọi là “khoảng cách chỉnh sửa”. \n",
    "\n",
    "Khoảng cách chỉnh sửa xác định mức độ gần nhau của hai chuỗi bằng cách tìm số lần “chỉnh sửa” tối thiểu cần thiết để chuyển đổi chuỗi này sang chuỗi khác. \n",
    "\n",
    "Nếu khoảng cách chỉnh sửa tính số lượng thao tác chỉnh sửa để cho chúng ta biết chuỗi này cách chuỗi khác bao nhiêu thao tác, thì chỉnh sửa là một thao tác được thực hiện trên một chuỗi để chuyển chuỗi đó thành một chuỗi khác.  \n",
    "\n",
    "Có bốn loại chỉnh sửa chính:\n",
    "\n",
    "- Chèn (thêm một chữ cái)\n",
    "- Xóa (xóa một chữ cái)\n",
    "- Chuyển đổi (hoán đổi hai chữ cái liền kề)\n",
    "- Thay thế (đổi chữ này sang chữ khác)\n",
    "Bốn thao tác chỉnh sửa này giúp bạn có thể sửa đổi bất kỳ chuỗi nào. \n",
    "\n",
    "Việc kết hợp các thao tác chỉnh sửa với nhau cho phép bạn khám phá danh sách các chuỗi có thể có N lần chỉnh sửa, trong đó N là số lượng thao tác chỉnh sửa. Ví dụ: khoảng cách chỉnh sửa giữa “London” và “Londin” là một vì việc thay thế “i” bằng “o” dẫn đến kết quả khớp chính xác. \n",
    "\n",
    "Nhưng bạn hỏi khoảng cách chỉnh sửa được tính cụ thể như thế nào?\n",
    "\n",
    "Có nhiều biến thể khác nhau về cách tính khoảng cách chỉnh sửa. Ví dụ: có khoảng cách Levenshtein, khoảng cách Hamming, khoảng cách Jaro, v.v."
   ]
  },
  {
   "cell_type": "markdown",
   "metadata": {},
   "source": [
    "# Khoảng cách Levenshtein"
   ]
  },
  {
   "cell_type": "markdown",
   "metadata": {},
   "source": [
    "## Trong hướng dẫn này, mình chỉ quan tâm đến khoảng cách Levenshtein. \n",
    "\n",
    "Đó là thước đo được đặt theo tên của Vladimir Levenshtein, người ban đầu coi nó vào năm 1965 để đo lường sự khác biệt giữa hai chuỗi từ. \n",
    "Mình có thể sử dụng nó để khám phá số lần chỉnh sửa tối thiểu mà bạn cần thực hiện để thay đổi chuỗi một từ thành chuỗi khác. \n",
    "\n",
    "Đây là tính toán chính thức: \n",
    "\n",
    "![Thuật toán](assets_fuzzy_search/Levenshtein.png)\n",
    "\n",
    "Trong đó 1(ai<>bj) biểu thị 0 khi a=b  và 1 nếu ngược lại. \n",
    "\n",
    "Điều quan trọng cần lưu ý là các hàng ở mức tối thiểu ở trên tương ứng với việc xóa, chèn và thay thế theo thứ tự đó.\n",
    "\n",
    "Cũng có thể tính tỷ lệ tương tự Levenshtein dựa trên khoảng cách Levenshtein. Điều này có thể được thực hiện bằng cách sử dụng công thức sau:\n",
    "\n",
    "![Thuật toán](assets_fuzzy_search/Levenshtein1.png)\n",
    "\n",
    "ở đâu có |a| và |b| lần lượt là độ dài của dãy a và dãy b "
   ]
  },
  {
   "cell_type": "markdown",
   "metadata": {},
   "source": [
    "# Một trong những gói phổ biến nhất để khớp chuỗi mờ trong Python là FuzzyWuzzy. Tuy nhiên, FuzzyWuzzy đã được cập nhật và đổi tên vào năm 2021. Hiện tại nó có tên TheFuzz .  "
   ]
  },
  {
   "cell_type": "code",
   "execution_count": 1,
   "metadata": {},
   "outputs": [
    {
     "name": "stdout",
     "output_type": "stream",
     "text": [
      "Requirement already satisfied: thefuzz in c:\\python312\\lib\\site-packages (0.22.1)\n",
      "Requirement already satisfied: rapidfuzz<4.0.0,>=3.0.0 in c:\\python312\\lib\\site-packages (from thefuzz) (3.8.1)\n",
      "Note: you may need to restart the kernel to use updated packages.\n"
     ]
    }
   ],
   "source": [
    "pip install thefuzz"
   ]
  },
  {
   "cell_type": "markdown",
   "metadata": {},
   "source": [
    "Chúng ta có thể xác định tỷ lệ đơn giản giữa hai chuỗi bằng phương thức rate() trên đối tượng fuzz. Điều này chỉ đơn giản là tính toán khoảng cách chỉnh sửa dựa trên thứ tự của cả hai chuỗi đầu vào difflib.ratio()– xem tài liệu về difflib để tìm hiểu thêm. "
   ]
  },
  {
   "cell_type": "code",
   "execution_count": 21,
   "metadata": {},
   "outputs": [
    {
     "name": "stdout",
     "output_type": "stream",
     "text": [
      "Similarity score: 86\n"
     ]
    },
    {
     "data": {
      "text/plain": [
       "'\\nSimilarity Score: 86\\n'"
      ]
     },
     "execution_count": 21,
     "metadata": {},
     "output_type": "execute_result"
    }
   ],
   "source": [
    "# Kiểm tra điểm tương đồng\n",
    "name = \"Ngoc\"\n",
    "full_name = \"Hoang Minh Ngoc\"\n",
    "\n",
    "print(f\"Điểm tương đồng: {fuzz.ratio(name, full_name)}\")\n",
    "\n",
    "\"\"\"\n",
    "Điểm tương đồng: 86\n",
    "\"\"\""
   ]
  }
 ],
 "metadata": {
  "kernelspec": {
   "display_name": "base",
   "language": "python",
   "name": "python3"
  },
  "language_info": {
   "codemirror_mode": {
    "name": "ipython",
    "version": 3
   },
   "file_extension": ".py",
   "mimetype": "text/x-python",
   "name": "python",
   "nbconvert_exporter": "python",
   "pygments_lexer": "ipython3",
   "version": "3.12.3"
  }
 },
 "nbformat": 4,
 "nbformat_minor": 2
}

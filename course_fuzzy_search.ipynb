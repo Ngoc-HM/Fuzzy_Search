{
 "cells": [
  {
   "cell_type": "code",
   "execution_count": 44,
   "metadata": {},
   "outputs": [],
   "source": [
    "# Test Fuzzy Search "
   ]
  },
  {
   "cell_type": "markdown",
   "metadata": {},
   "source": [
    "# Fuzzy search (tìm kiếm mờ) \n",
    "Fuzzy search (tìm kiếm mờ) là một kỹ thuật tìm kiếm cho phép tìm kiếm dữ liệu dựa trên sự tương đồng, thay vì tìm kiếm khớp chính xác.\n",
    "\n",
    "Trong fuzzy search, thay vì chỉ trả về kết quả chính xác, nó cũng trả về các kết quả tương tự với chuỗi tìm kiếm, dựa trên một số tiêu chí như:\n",
    "\n",
    "- Hoán vị chữ cái\n",
    "- Chèn hoặc xóa chữ cái\n",
    "- Chữ cái khác biệt\n",
    "- Khoảng cách biểu diễn (ví dụ giữa \"hello world\" và \"helloworld\")\n",
    "\n",
    "Fuzzy search rất hữu ích trong các trường hợp như:\n",
    "\n",
    "1. Tìm kiếm và sửa lỗi chính tả\n",
    "2. Tìm kiếm tên người hoặc địa danh khi có sự khác biệt về cách viết\n",
    "3. Tìm kiếm dữ liệu bị lỗi hoặc không đồng nhất\n",
    "4. Tìm kiếm trên dữ liệu từ nhiều nguồn khác nhau\n",
    "\n",
    "Các thuật toán phổ biến dùng cho fuzzy search bao gồm khoảng cách Levenshtein, khoảng cách Damerau-Levenshtein, so khớp ngữ âm, n-grams, v.v.\n",
    "\n",
    "Fuzzy search đã được áp dụng rộng rãi trong các công cụ tìm kiếm, trình gõ tự động, kiểm tra chính tả, gợi ý và tự động hoàn thành, công cụ truy vấn dữ liệu, v.v."
   ]
  },
  {
   "cell_type": "markdown",
   "metadata": {},
   "source": [
    "# Bản chất"
   ]
  },
  {
   "cell_type": "markdown",
   "metadata": {},
   "source": [
    "Con người có thể phân biệt được ý định của một từ sai chính tả chỉ bằng một cái nhìn thoáng qua. Đối với máy tính, sự phân biệt không rõ ràng. \n",
    "\n",
    "Trong bài này fuzzy mình sẽ dịch qua tiếng Việt là \"mờ\"\n",
    "\"Fuzzy Search = tìm kiếm chuỗi mờ \"\n",
    "\n",
    "\n"
   ]
  },
  {
   "cell_type": "markdown",
   "metadata": {},
   "source": [
    "So khớp chuỗi mờ là tên thông tục được sử dụng để so khớp chuỗi gần đúng \n",
    "\n",
    "mình sẽ sử dụng thuật ngữ so khớp chuỗi mờ cho hướng dẫn này. \n",
    "\n",
    "Đó là một kỹ thuật được sử dụng để xác định hai thành phần của chuỗi văn bản khớp một phần nhưng không khớp chính xác. \n",
    "\n",
    "Chúng ta thường thấy hiện tượng này được sử dụng trong các công cụ tìm kiếm. \n",
    "\n",
    "Ví dụ: nếu người dùng nhập “Londin” thay vì “London” vào Google (có thể là chữ i gần chữ o nên gõ sai), \n",
    "kết hợp chuỗi mờ sẽ xác định rằng “London” là từ dự định và Google sẽ trả về kết quả tìm kiếm cho từ đó."
   ]
  },
  {
   "cell_type": "markdown",
   "metadata": {},
   "source": [
    "# Chỉnh sửa và chỉnh sửa khoảng cách\n",
    "\n",
    "Thuật toán so khớp chuỗi mờ tìm cách xác định mức độ gần nhau giữa hai chuỗi khác nhau. \n",
    "\n",
    "Điều này được phát hiện bằng cách sử dụng thước đo khoảng cách được gọi là “khoảng cách chỉnh sửa”. \n",
    "\n",
    "Khoảng cách chỉnh sửa xác định mức độ gần nhau của hai chuỗi bằng cách tìm số lần “chỉnh sửa” tối thiểu cần thiết để chuyển đổi chuỗi này sang chuỗi khác. \n",
    "\n",
    "Nếu khoảng cách chỉnh sửa tính số lượng thao tác chỉnh sửa để cho chúng ta biết chuỗi này cách chuỗi khác bao nhiêu thao tác, thì chỉnh sửa là một thao tác được thực hiện trên một chuỗi để chuyển chuỗi đó thành một chuỗi khác.  \n",
    "\n",
    "Có bốn loại chỉnh sửa chính:\n",
    "\n",
    "- Chèn (thêm một chữ cái)\n",
    "- Xóa (xóa một chữ cái)\n",
    "- Chuyển đổi (hoán đổi hai chữ cái liền kề)\n",
    "- Thay thế (đổi chữ này sang chữ khác)\n",
    "Bốn thao tác chỉnh sửa này giúp bạn có thể sửa đổi bất kỳ chuỗi nào. \n",
    "\n",
    "Việc kết hợp các thao tác chỉnh sửa với nhau cho phép bạn khám phá danh sách các chuỗi có thể có N lần chỉnh sửa, trong đó N là số lượng thao tác chỉnh sửa. Ví dụ: khoảng cách chỉnh sửa giữa “London” và “Londin” là một vì việc thay thế “i” bằng “o” dẫn đến kết quả khớp chính xác. \n",
    "\n",
    "Nhưng bạn hỏi khoảng cách chỉnh sửa được tính cụ thể như thế nào?\n",
    "\n",
    "Có nhiều biến thể khác nhau về cách tính khoảng cách chỉnh sửa. Ví dụ: có khoảng cách Levenshtein, khoảng cách Hamming, khoảng cách Jaro, v.v."
   ]
  },
  {
   "cell_type": "markdown",
   "metadata": {},
   "source": [
    "# Khoảng cách Levenshtein"
   ]
  },
  {
   "cell_type": "markdown",
   "metadata": {},
   "source": [
    "## Trong hướng dẫn này, mình chỉ quan tâm đến khoảng cách Levenshtein. \n",
    "\n",
    "Đó là thước đo được đặt theo tên của Vladimir Levenshtein, người ban đầu coi nó vào năm 1965 để đo lường sự khác biệt giữa hai chuỗi từ. \n",
    "Mình có thể sử dụng nó để khám phá số lần chỉnh sửa tối thiểu mà bạn cần thực hiện để thay đổi chuỗi một từ thành chuỗi khác. \n",
    "\n",
    "Đây là tính toán chính thức: \n",
    "\n",
    "![Thuật toán](assets_fuzzy_search/Levenshtein.png)\n",
    "\n",
    "Trong đó 1(ai<>bj) biểu thị 0 khi a=b  và 1 nếu ngược lại. \n",
    "\n",
    "Điều quan trọng cần lưu ý là các hàng ở mức tối thiểu ở trên tương ứng với việc xóa, chèn và thay thế theo thứ tự đó.\n",
    "\n",
    "Cũng có thể tính tỷ lệ tương tự Levenshtein dựa trên khoảng cách Levenshtein. Điều này có thể được thực hiện bằng cách sử dụng công thức sau:\n",
    "\n",
    "![Thuật toán](assets_fuzzy_search/Levenshtein1.png)\n",
    "\n",
    "ở đâu có |a| và |b| lần lượt là độ dài của dãy a và dãy b "
   ]
  },
  {
   "cell_type": "markdown",
   "metadata": {},
   "source": [
    "# Một trong những gói phổ biến nhất để khớp chuỗi mờ trong Python là FuzzyWuzzy. Tuy nhiên, FuzzyWuzzy đã được cập nhật và đổi tên vào năm 2021. Hiện tại nó có tên TheFuzz .  "
   ]
  },
  {
   "cell_type": "code",
   "execution_count": 45,
   "metadata": {},
   "outputs": [
    {
     "name": "stdout",
     "output_type": "stream",
     "text": [
      "Requirement already satisfied: thefuzz in c:\\python312\\lib\\site-packages (0.22.1)\n",
      "Requirement already satisfied: rapidfuzz<4.0.0,>=3.0.0 in c:\\python312\\lib\\site-packages (from thefuzz) (3.8.1)\n"
     ]
    }
   ],
   "source": [
    "!pip install thefuzz"
   ]
  },
  {
   "cell_type": "code",
   "execution_count": 46,
   "metadata": {},
   "outputs": [],
   "source": [
    "from thefuzz import fuzz, process"
   ]
  },
  {
   "cell_type": "markdown",
   "metadata": {},
   "source": [
    "# Simple ratio"
   ]
  },
  {
   "cell_type": "markdown",
   "metadata": {},
   "source": [
    "Chúng ta có thể xác định tỷ lệ đơn giản giữa hai chuỗi bằng phương thức rate() trên đối tượng fuzz. \n",
    "\n",
    "Điều này chỉ đơn giản là tính toán khoảng cách chỉnh sửa dựa trên thứ tự của cả hai chuỗi đầu vào difflib.ratio()– xem tài liệu về difflib để tìm hiểu thêm. "
   ]
  },
  {
   "cell_type": "code",
   "execution_count": 47,
   "metadata": {},
   "outputs": [
    {
     "name": "stdout",
     "output_type": "stream",
     "text": [
      "Điểm tương đồng: 64\n"
     ]
    }
   ],
   "source": [
    "# Kiểm tra điểm tương đồng\n",
    "name = \"Minh M N Ngoc\"\n",
    "full_name = \"Hoang Minh Ngoc\"\n",
    "\n",
    "print(f\"Điểm tương đồng: {fuzz.ratio(name, full_name)}\")\n"
   ]
  },
  {
   "cell_type": "markdown",
   "metadata": {},
   "source": [
    "# Partial ratio"
   ]
  },
  {
   "cell_type": "markdown",
   "metadata": {},
   "source": [
    "Để kiểm tra tỷ lệ từng phần, tất cả những gì chúng ta phải làm với đoạn mã trên là gọi partial_ratio()\n",
    "\n",
    "đối tượng fuzz thay vì ratio(). "
   ]
  },
  {
   "cell_type": "code",
   "execution_count": 48,
   "metadata": {},
   "outputs": [
    {
     "name": "stdout",
     "output_type": "stream",
     "text": [
      "Điểm tương đồng: 85\n"
     ]
    }
   ],
   "source": [
    "# Check the similarity score\n",
    "name = \"Hoang Minh M N Ngoc \"\n",
    "full_name = \"Hoang Minh Ngoc\"\n",
    "\n",
    "print(f\"Điểm tương đồng: {fuzz.partial_ratio(name, full_name)}\")\n"
   ]
  },
  {
   "cell_type": "code",
   "execution_count": 49,
   "metadata": {},
   "outputs": [
    {
     "name": "stdout",
     "output_type": "stream",
     "text": [
      "ratio: 88\n",
      "partial_ratio: 85\n"
     ]
    }
   ],
   "source": [
    "name = \"Hoang Minh M N Ngoc\"\n",
    "full_name = \"Hoang Minh Ngoc\"\n",
    "\n",
    "print(f\"ratio: {fuzz.ratio(name, full_name)}\")\n",
    "print(f\"partial_ratio: {fuzz.partial_ratio(name, full_name)}\")"
   ]
  },
  {
   "cell_type": "markdown",
   "metadata": {},
   "source": [
    "bạn có thấy thấy sự sụt giảm. Chuyện gì đang xảy ra vậy? \n",
    "\n",
    "Chà, mình phải xem partial_ratio() đang tìm cách tìm xem hai chuỗi giống nhau một phần như thế nào. \n",
    "\n",
    "Hai chuỗi giống nhau một phần nếu chúng có một số từ theo thứ tự chung. \n",
    "\n",
    "Tính partial_ratio() toán độ tương tự bằng cách lấy chuỗi ngắn nhất, trong trường hợp này được lưu trong tên biến, sau đó so sánh nó với các chuỗi con có cùng độ dài trong chuỗi dài hơn, được lưu trữ trong full_name. \n",
    "\n",
    "Vì thứ tự đóng vai trò quan trọng trong tỷ lệ một phần nên điểm của mình đã giảm trong trường hợp này. \n",
    "\n",
    "Do đó, để có kết quả giống 100%, bạn sẽ phải chuyển phần “M N” (biểu thị tên đệm của tôi) xuống cuối chuỗi. Ví dụ: "
   ]
  },
  {
   "cell_type": "markdown",
   "metadata": {},
   "source": [
    "Vì thứ tự đóng vai trò quan trọng và đối với Partial ratio thì chúng sẽ lấy \"M N\" xếp xuống cuối để tính toán giá trị "
   ]
  },
  {
   "cell_type": "code",
   "execution_count": 50,
   "metadata": {},
   "outputs": [
    {
     "name": "stdout",
     "output_type": "stream",
     "text": [
      "ratio: 79\n",
      "partial_ratio: 88\n"
     ]
    }
   ],
   "source": [
    "name = \"Hoang Minh M N Ngoc\"\n",
    "full_name = \"Hoang Minh Ngoc M N\"\n",
    "\n",
    "print(f\"ratio: {fuzz.ratio(name, full_name)}\")\n",
    "print(f\"partial_ratio: {fuzz.partial_ratio(name, full_name)}\")"
   ]
  },
  {
   "cell_type": "markdown",
   "metadata": {},
   "source": [
    "# Vậy điều gì sẽ xảy ra nếu chúng ta muốn trình so khớp chuỗi mờ bỏ qua thứ tự? \n",
    "\n",
    "Sau đó, bạn có thể muốn sử dụng “tỷ lệ sắp xếp mã thông báo (Token sort ratio) ”.  "
   ]
  },
  {
   "cell_type": "markdown",
   "metadata": {},
   "source": [
    "# Token sort ratio"
   ]
  },
  {
   "cell_type": "markdown",
   "metadata": {},
   "source": [
    "Được rồi, vì vậy mình muốn bỏ qua thứ tự của các từ trong chuỗi nhưng vẫn xác định mức độ giống nhau của chúng \n",
    "\n",
    "- sắp xếp mã thông báo giúp bạn thực hiện chính xác điều đó. \n",
    "\n",
    "Sắp xếp mã thông báo không quan tâm đến thứ tự các từ xuất hiện. \n",
    "\n",
    "Nó tính đến các chuỗi tương tự không theo thứ tự như được trình bày ở trên. \n",
    "\n",
    "Do đó, chúng ta sẽ nhận được điểm 100% khi sử dụng tỷ lệ sắp xếp mã thông báo với ví dụ gần đây nhất: "
   ]
  },
  {
   "cell_type": "code",
   "execution_count": 51,
   "metadata": {},
   "outputs": [
    {
     "name": "stdout",
     "output_type": "stream",
     "text": [
      "Token sort ratio : 100\n",
      "Partial ratio : 88\n",
      "Simple ratio: 100\n"
     ]
    }
   ],
   "source": [
    "\n",
    "full_name = \"Hoang Minh M N Ngoc\"\n",
    "full_name_reordered = \"Hoang Minh Ngoc M N\"\n",
    "\n",
    "# Thứ tự không quan trọng đối với tỷ lệ sắp xếp mã thông báo\n",
    "print(f\"Token sort ratio : {fuzz.token_sort_ratio(full_name_reordered, full_name)}\")\n",
    "\n",
    "# Thứ tự quan trọng đối với tỷ lệ một phần\n",
    "print(f\"Partial ratio : {fuzz.partial_ratio(full_name, full_name_reordered)}\")\n",
    "\n",
    "# Thứ tự sẽ không ảnh hưởng đến tỷ lệ đơn giản nếu chuỗi không khớp\n",
    "print(f\"Simple ratio: {fuzz.ratio(name, full_name)}\")\n"
   ]
  },
  {
   "cell_type": "markdown",
   "metadata": {},
   "source": [
    "… và đúng như mong đợi, mình đã làm được. \n",
    "\n",
    "Hãy quay lại với biến name và full_name ban đầu. \n",
    "\n",
    "Bạn nghĩ điều gì sẽ xảy ra nếu chúng ta sử dụng tính năng sắp xếp mã thông báo ngay bây giờ? "
   ]
  },
  {
   "cell_type": "code",
   "execution_count": 52,
   "metadata": {},
   "outputs": [
    {
     "name": "stdout",
     "output_type": "stream",
     "text": [
      "Token sort ratio : 88\n"
     ]
    }
   ],
   "source": [
    "\n",
    "full_name = \"Hoang Minh Ngoc\"\n",
    "full_name_reordered = \"Hoang Minh M N Ngoc \"\n",
    "\n",
    "print(f\"Token sort ratio : {fuzz.token_sort_ratio(name, full_name)}\")\n"
   ]
  },
  {
   "cell_type": "markdown",
   "metadata": {},
   "source": [
    "Điểm số giảm xuống. \n",
    "\n",
    "Điều này là do việc sắp xếp mã thông báo chỉ bỏ qua thứ tự. Nếu có những từ không giống nhau trong chuỗi, nó sẽ tác động tiêu cực đến tỷ lệ tương tự, như chúng ta đã thấy ở trên.\n",
    "\n",
    "Nhưng có một cách giải quyết. "
   ]
  },
  {
   "cell_type": "markdown",
   "metadata": {},
   "source": [
    "# Token set ratio"
   ]
  },
  {
   "cell_type": "markdown",
   "metadata": {},
   "source": [
    "Phương thức này token_set_ratio() khá giống với token_sort_ratio(), \n",
    "\n",
    "ngoại trừ việc nó lấy ra các mã thông báo chung trước khi tính toán mức độ giống nhau của các chuỗi: điều này cực kỳ hữu ích khi các chuỗi có độ dài khác nhau đáng kể. \n",
    "\n",
    "Vì các biến name và full_name đều có “Hoang Minh Ngoc” trong đó nên chúng tôi có thể kỳ vọng tỷ lệ bộ mã thông báo tương tự là 100%. "
   ]
  },
  {
   "cell_type": "code",
   "execution_count": 53,
   "metadata": {},
   "outputs": [
    {
     "name": "stdout",
     "output_type": "stream",
     "text": [
      "Token sort ratio similarity score: 100\n"
     ]
    }
   ],
   "source": [
    "# Check the similarity score\n",
    "full_name = \"Hoang Minh Ngoc\"\n",
    "full_name_reordered = \"Hoang Minh M N Ngoc \"\n",
    "\n",
    "print(f\"Token sort ratio similarity score: {fuzz.token_set_ratio(name, full_name)}\")\n",
    "\n"
   ]
  },
  {
   "cell_type": "markdown",
   "metadata": {},
   "source": []
  }
 ],
 "metadata": {
  "kernelspec": {
   "display_name": "base",
   "language": "python",
   "name": "python3"
  },
  "language_info": {
   "codemirror_mode": {
    "name": "ipython",
    "version": 3
   },
   "file_extension": ".py",
   "mimetype": "text/x-python",
   "name": "python",
   "nbconvert_exporter": "python",
   "pygments_lexer": "ipython3",
   "version": "3.12.3"
  }
 },
 "nbformat": 4,
 "nbformat_minor": 2
}
